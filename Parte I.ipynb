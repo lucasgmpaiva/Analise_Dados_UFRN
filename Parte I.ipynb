{
  "nbformat": 4,
  "nbformat_minor": 0,
  "metadata": {
    "colab": {
      "name": "Untitled0.ipynb",
      "version": "0.3.2",
      "provenance": []
    },
    "kernelspec": {
      "name": "python3",
      "display_name": "Python 3"
    }
  },
  "cells": [
    {
      "cell_type": "markdown",
      "metadata": {
        "id": "view-in-github",
        "colab_type": "text"
      },
      "source": [
        "[View in Colaboratory](https://colab.research.google.com/github/lucasgmpaiva/Analise_Dados_UFRN/blob/master/Parte%20I.ipynb)"
      ]
    },
    {
      "metadata": {
        "id": "bZAuVdiIhpMN",
        "colab_type": "code",
        "colab": {}
      },
      "cell_type": "code",
      "source": [
        "#Bibliotecas Necessárias\n",
        "\n",
        "import pandas as pd\n",
        "import matplotlib.pyplot as plt\n",
        "import seaborn as sns\n",
        "import numpy as np"
      ],
      "execution_count": 0,
      "outputs": []
    },
    {
      "metadata": {
        "id": "jWNwmmDsia2g",
        "colab_type": "code",
        "colab": {}
      },
      "cell_type": "code",
      "source": [
        "#Criando DataFrames de Socioeconômico\n",
        "\n",
        "dadosSocio_2017_1 = pd.read_csv(\"https://bit.ly/2jLOb0T\", sep=';', usecols=['id_discente', 'ano', 'periodo', 'renda', 'escola_ens_medio']);\n",
        "dadosSocio_2016_2 = pd.read_csv(\"https://bit.ly/2K8jMF3\", sep=';', usecols=['id_discente', 'ano', 'periodo', 'renda', 'escola_ens_medio']);\n",
        "dadosSocio_2016_1 = pd.read_csv(\"https://bit.ly/2I5xrMA\", sep=';', usecols=['id_discente', 'ano', 'periodo', 'renda', 'escola_ens_medio']);\n",
        "dadosSocio_2015_2 = pd.read_csv(\"https://bit.ly/2K7UtTy\", sep=';', usecols=['id_discente', 'ano', 'periodo', 'renda', 'escola_ens_medio']);\n",
        "dadosSocio_2015_1 = pd.read_csv(\"https://bit.ly/2wuf4PY\", sep=';', usecols=['id_discente', 'ano', 'periodo', 'renda', 'escola_ens_medio']);\n",
        "dadosSocio_2014_2 = pd.read_csv(\"https://bit.ly/2IaMcO9\", sep=';', usecols=['id_discente', 'ano', 'periodo', 'renda', 'escola_ens_medio']);\n",
        "dadosSocio_2014_1 = pd.read_csv(\"https://bit.ly/2rwzbXX\", sep=';', usecols=['id_discente', 'ano', 'periodo', 'renda', 'escola_ens_medio']);\n",
        "\n",
        "#Criando DataFrames de Situações\n",
        "dadosSituacao_2017_1 = pd.read_csv(\"https://bit.ly/2KMoTvS\", sep=';', usecols=['discente', 'id_curso', 'media_final', 'descricao']);\n",
        "dadosSituacao_2016_2 = pd.read_csv(\"https://bit.ly/2rup6Ma\", sep=';', usecols=['discente', 'id_curso', 'media_final', 'descricao']);\n",
        "dadosSituacao_2016_1 = pd.read_csv(\"https://bit.ly/2K7oy5w\", sep=';', usecols=['discente', 'id_curso', 'media_final', 'descricao']);\n",
        "dadosSituacao_2015_2 = pd.read_csv(\"https://bit.ly/2rvknKb\", sep=';', usecols=['discente', 'id_curso', 'media_final', 'descricao']);\n",
        "dadosSituacao_2015_1 = pd.read_csv(\"https://bit.ly/2I8YfeM\", sep=';', usecols=['discente', 'id_curso', 'media_final', 'descricao']);\n",
        "dadosSituacao_2014_2 = pd.read_csv(\"https://bit.ly/2I3mj6T\", sep=';', usecols=['discente', 'id_curso', 'media_final', 'descricao']);\n",
        "dadosSituacao_2014_1 = pd.read_csv(\"https://bit.ly/2rwFpI4\", sep=';', usecols=['discente', 'id_curso', 'media_final', 'descricao']);"
      ],
      "execution_count": 0,
      "outputs": []
    },
    {
      "metadata": {
        "id": "USeGMD5cjYAs",
        "colab_type": "code",
        "colab": {}
      },
      "cell_type": "code",
      "source": [
        "#Preparando Os Dados\n",
        "lista_Socio = [dadosSocio_2014_1, dadosSocio_2014_2, dadosSocio_2015_1, dadosSocio_2015_2, dadosSocio_2016_1, dadosSocio_2016_2, dadosSocio_2017_1]\n",
        "\n",
        "for data in lista_Socio:\n",
        "  data.rename(columns={\"id_discente\" : \"discente\"}, inplace=True)\n",
        "  \n",
        "dadosSocio_2017_1.columns\n",
        "  \n",
        "lista_Situacao =  [dadosSituacao_2017_1, dadosSituacao_2016_2, dadosSituacao_2016_1, dadosSituacao_2015_2, dadosSituacao_2015_1, dadosSituacao_2014_2, dadosSituacao_2014_1]\n",
        "\n",
        "for data in lista_Situacao:\n",
        "  data = data[~data.discente.duplicated()]\n",
        "  data = data[data[\"id_curso\"]==92127264] #92127264 = Id do curso BTI"
      ],
      "execution_count": 0,
      "outputs": []
    },
    {
      "metadata": {
        "id": "hXNz1r_fqWIt",
        "colab_type": "code",
        "colab": {}
      },
      "cell_type": "code",
      "source": [
        "#Unindo Dados De Cada Período\n",
        "dados_2017_1 = pd.merge(dadosSocio_2017_1, dadosSituacao_2017_1, on='discente')\n",
        "dados_2016_2 = pd.merge(dadosSocio_2016_2, dadosSituacao_2016_2, on='discente')\n",
        "dados_2016_1 = pd.merge(dadosSocio_2016_1, dadosSituacao_2016_1, on='discente')\n",
        "dados_2015_2 = pd.merge(dadosSocio_2015_2, dadosSituacao_2015_2, on='discente')\n",
        "dados_2015_1 = pd.merge(dadosSocio_2015_1, dadosSituacao_2015_1, on='discente')\n",
        "dados_2014_2 = pd.merge(dadosSocio_2014_2, dadosSituacao_2014_2, on='discente')\n",
        "dados_2014_1 = pd.merge(dadosSocio_2014_1, dadosSituacao_2014_1, on='discente')\n",
        "\n",
        "lista_Dados = [dados_2014_1, dados_2014_2, dados_2015_1, dados_2015_2, dados_2016_1, dados_2016_2, dados_2017_1]\n",
        "\n",
        "for data in lista_Dados:\n",
        "  data.dropna()"
      ],
      "execution_count": 0,
      "outputs": []
    },
    {
      "metadata": {
        "id": "ocLRJQiIuGhl",
        "colab_type": "code",
        "colab": {}
      },
      "cell_type": "code",
      "source": [
        ""
      ],
      "execution_count": 0,
      "outputs": []
    }
  ]
}