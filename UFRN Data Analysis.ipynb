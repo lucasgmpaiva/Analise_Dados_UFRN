{
 "cells": [
  {
   "cell_type": "markdown",
   "metadata": {},
   "source": [
    "# Análise de Dados da Universidade Federal do Rio Grande do Norte (UFRN)"
   ]
  },
  {
   "cell_type": "markdown",
   "metadata": {},
   "source": [
    "Equipe: Henrique David de Medeiros (henriquemed101@gmail.com), Lucas Gabriel Matias Paiva (lucasgmpaiva1@gmail.com) e Robert Bleda de Saint George (saintgeorge@uol.com.br)"
   ]
  },
  {
   "cell_type": "code",
   "execution_count": 16,
   "metadata": {},
   "outputs": [],
   "source": [
    "#Bibliotecas Necessárias\n",
    "\n",
    "import pandas as pd\n",
    "import matplotlib.pyplot as plt\n",
    "import seaborn as sns\n",
    "import numpy as np\n",
    "from numpy import arange"
   ]
  },
  {
   "cell_type": "code",
   "execution_count": 3,
   "metadata": {},
   "outputs": [],
   "source": [
    "#Criando DataFrames de Socioeconômico\n",
    "\n",
    "dadosSocio_2017_1 = pd.read_csv(\"https://bit.ly/2jLOb0T\", sep=';', usecols=['id_discente', 'ano', 'periodo', 'renda', 'escola_ens_medio']);\n",
    "dadosSocio_2016_2 = pd.read_csv(\"https://bit.ly/2K8jMF3\", sep=';', usecols=['id_discente', 'ano', 'periodo', 'renda', 'escola_ens_medio']);\n",
    "dadosSocio_2016_1 = pd.read_csv(\"https://bit.ly/2I5xrMA\", sep=';', usecols=['id_discente', 'ano', 'periodo', 'renda', 'escola_ens_medio']);\n",
    "dadosSocio_2015_2 = pd.read_csv(\"https://bit.ly/2K7UtTy\", sep=';', usecols=['id_discente', 'ano', 'periodo', 'renda', 'escola_ens_medio']);\n",
    "dadosSocio_2015_1 = pd.read_csv(\"https://bit.ly/2wuf4PY\", sep=';', usecols=['id_discente', 'ano', 'periodo', 'renda', 'escola_ens_medio']);\n",
    "dadosSocio_2014_2 = pd.read_csv(\"https://bit.ly/2IaMcO9\", sep=';', usecols=['id_discente', 'ano', 'periodo', 'renda', 'escola_ens_medio']);\n",
    "dadosSocio_2014_1 = pd.read_csv(\"https://bit.ly/2rwzbXX\", sep=';', usecols=['id_discente', 'ano', 'periodo', 'renda', 'escola_ens_medio']);\n"
   ]
  },
  {
   "cell_type": "code",
   "execution_count": 4,
   "metadata": {
    "scrolled": true
   },
   "outputs": [],
   "source": [
    "#Criando DataFrames de Situações\n",
    "\n",
    "dadosSituacao_2017_1 = pd.read_csv(\"https://bit.ly/2KMoTvS\", sep=';', usecols=['discente', 'id_curso', 'media_final', 'descricao']);\n",
    "dadosSituacao_2016_2 = pd.read_csv(\"data/matriculas-de-2016.2.csv\", sep=';', usecols=['discente', 'id_curso', 'media_final', 'descricao']);\n",
    "dadosSituacao_2016_1 = pd.read_csv(\"data/matriculas-de-2016.1.csv\", sep=';', usecols=['discente', 'id_curso', 'media_final', 'descricao']);\n",
    "dadosSituacao_2015_2 = pd.read_csv(\"data/matriculas-de-2015.2.csv\", sep=';', usecols=['discente', 'id_curso', 'media_final', 'descricao']);\n",
    "dadosSituacao_2015_1 = pd.read_csv(\"data/matriculas-de-2015.1.csv\", sep=';', usecols=['discente', 'id_curso', 'media_final', 'descricao']);\n",
    "dadosSituacao_2014_2 = pd.read_csv(\"data/matricula-componente-20142.csv\", sep=';', usecols=['discente', 'id_curso', 'media_final', 'descricao']);\n",
    "dadosSituacao_2014_1 = pd.read_csv(\"data/matricula-componente-20141.csv\", sep=';', usecols=['discente', 'id_curso', 'media_final', 'descricao']);"
   ]
  },
  {
   "cell_type": "code",
   "execution_count": 7,
   "metadata": {
    "collapsed": true
   },
   "outputs": [
    {
     "data": {
      "text/plain": [
       "Index(['discente', 'ano', 'periodo', 'renda', 'escola_ens_medio'], dtype='object')"
      ]
     },
     "execution_count": 7,
     "metadata": {},
     "output_type": "execute_result"
    }
   ],
   "source": [
    "#Preparando Os Dados\n",
    "lista_Socio = [dadosSocio_2014_1, dadosSocio_2014_2, dadosSocio_2015_1, dadosSocio_2015_2, dadosSocio_2016_1, dadosSocio_2016_2, dadosSocio_2017_1]\n",
    "\n",
    "for data in lista_Socio:\n",
    "  data.rename(columns={\"id_discente\" : \"discente\"}, inplace=True)\n",
    "  \n",
    "dadosSocio_2017_1.columns"
   ]
  },
  {
   "cell_type": "code",
   "execution_count": 8,
   "metadata": {},
   "outputs": [],
   "source": [
    "dadosSituacao_2017_1 = dadosSituacao_2017_1[dadosSituacao_2017_1.id_curso==92127264]\n",
    "dadosSituacao_2016_2 = dadosSituacao_2016_2[dadosSituacao_2016_2.id_curso==92127264]\n",
    "dadosSituacao_2016_1 = dadosSituacao_2016_1[dadosSituacao_2016_1.id_curso==92127264]\n",
    "dadosSituacao_2015_2 = dadosSituacao_2015_2[dadosSituacao_2015_2.id_curso==92127264]\n",
    "dadosSituacao_2015_1 = dadosSituacao_2015_1[dadosSituacao_2015_1.id_curso==92127264]\n",
    "dadosSituacao_2014_2 = dadosSituacao_2014_2[dadosSituacao_2014_2.id_curso==92127264]\n",
    "dadosSituacao_2014_1 = dadosSituacao_2014_1[dadosSituacao_2014_1.id_curso==92127264]"
   ]
  },
  {
   "cell_type": "code",
   "execution_count": 9,
   "metadata": {},
   "outputs": [],
   "source": [
    "#Unindo Dados De Cada Período\n",
    "dados_2017_1 = pd.merge(dadosSocio_2017_1, dadosSituacao_2017_1, on='discente')\n",
    "dados_2016_2 = pd.merge(dadosSocio_2016_2, dadosSituacao_2016_2, on='discente')\n",
    "dados_2016_1 = pd.merge(dadosSocio_2016_1, dadosSituacao_2016_1, on='discente')\n",
    "dados_2015_2 = pd.merge(dadosSocio_2015_2, dadosSituacao_2015_2, on='discente')\n",
    "dados_2015_1 = pd.merge(dadosSocio_2015_1, dadosSituacao_2015_1, on='discente')\n",
    "dados_2014_2 = pd.merge(dadosSocio_2014_2, dadosSituacao_2014_2, on='discente')\n",
    "dados_2014_1 = pd.merge(dadosSocio_2014_1, dadosSituacao_2014_1, on='discente')\n",
    "\n",
    "dados_2017_1 = dados_2017_1[~dados_2017_1.discente.duplicated()]\n",
    "dados_2016_2 = dados_2016_2[~dados_2016_2.discente.duplicated()]\n",
    "dados_2016_1 = dados_2016_1[~dados_2016_1.discente.duplicated()]\n",
    "dados_2015_2 = dados_2015_2[~dados_2015_2.discente.duplicated()]\n",
    "dados_2015_1 = dados_2015_1[~dados_2015_1.discente.duplicated()]\n",
    "dados_2014_2 = dados_2014_2[~dados_2014_2.discente.duplicated()]\n",
    "dados_2014_1 = dados_2014_1[~dados_2014_1.discente.duplicated()]\n",
    "\n",
    "lista_Dados = [dados_2014_1, dados_2014_2, dados_2015_1, dados_2015_2, dados_2016_1, dados_2016_2, dados_2017_1]\n",
    "\n",
    "for data in lista_Dados:\n",
    "  data.dropna()\n",
    "  \n",
    "dados_2017_1.reset_index(drop=True, inplace=True)\n",
    "dados_2016_2.reset_index(drop=True, inplace=True)\n",
    "dados_2016_1.reset_index(drop=True, inplace=True)\n",
    "dados_2015_2.reset_index(drop=True, inplace=True)\n",
    "dados_2015_1.reset_index(drop=True, inplace=True)\n",
    "dados_2014_2.reset_index(drop=True, inplace=True)\n",
    "dados_2014_1.reset_index(drop=True, inplace=True)"
   ]
  },
  {
   "cell_type": "code",
   "execution_count": 54,
   "metadata": {},
   "outputs": [],
   "source": [
    "# Atribui a cada discente uma classe\n",
    "\n",
    "dados_gerais = [dados_2014_1, dados_2014_2, dados_2015_1, dados_2015_2, dados_2016_1, dados_2016_2, dados_2017_1]\n",
    "\n",
    "for i in dados_gerais:\n",
    "    i[\"classe\"] = pd.cut(i[\"renda\"],\n",
    "       bins=[714,1024,1541,2565,4418,8418,12926, 27500],\n",
    "      labels=[\"D\",\"C2\",\"C1\",\"B2\",\"B1\",\"A2\", \"A1\"],\n",
    "      include_lowest=True)\n",
    "    \n",
    "# Classe A1 < 27500\n",
    "# Classe A2 < 12926\n",
    "# Classe B1 < 8418\n",
    "# Classe B2 < 4415\n",
    "# Classe C1 < 2565\n",
    "# Classe C2 < 1024\n",
    "# Classe D < 714"
   ]
  },
  {
   "cell_type": "code",
   "execution_count": 234,
   "metadata": {
    "scrolled": true
   },
   "outputs": [
    {
     "data": {
      "text/html": [
       "<div>\n",
       "<style scoped>\n",
       "    .dataframe tbody tr th:only-of-type {\n",
       "        vertical-align: middle;\n",
       "    }\n",
       "\n",
       "    .dataframe tbody tr th {\n",
       "        vertical-align: top;\n",
       "    }\n",
       "\n",
       "    .dataframe thead th {\n",
       "        text-align: right;\n",
       "    }\n",
       "</style>\n",
       "<table border=\"1\" class=\"dataframe\">\n",
       "  <thead>\n",
       "    <tr style=\"text-align: right;\">\n",
       "      <th>classe</th>\n",
       "      <th>D</th>\n",
       "      <th>C2</th>\n",
       "      <th>C1</th>\n",
       "      <th>B2</th>\n",
       "      <th>B1</th>\n",
       "      <th>A2</th>\n",
       "      <th>A1</th>\n",
       "    </tr>\n",
       "  </thead>\n",
       "  <tbody>\n",
       "    <tr>\n",
       "      <th>20171</th>\n",
       "      <td>53</td>\n",
       "      <td>69</td>\n",
       "      <td>83</td>\n",
       "      <td>64</td>\n",
       "      <td>50</td>\n",
       "      <td>9</td>\n",
       "      <td>7</td>\n",
       "    </tr>\n",
       "    <tr>\n",
       "      <th>20162</th>\n",
       "      <td>44</td>\n",
       "      <td>55</td>\n",
       "      <td>75</td>\n",
       "      <td>51</td>\n",
       "      <td>37</td>\n",
       "      <td>15</td>\n",
       "      <td>1</td>\n",
       "    </tr>\n",
       "    <tr>\n",
       "      <th>20161</th>\n",
       "      <td>43</td>\n",
       "      <td>40</td>\n",
       "      <td>67</td>\n",
       "      <td>48</td>\n",
       "      <td>26</td>\n",
       "      <td>16</td>\n",
       "      <td>1</td>\n",
       "    </tr>\n",
       "    <tr>\n",
       "      <th>20152</th>\n",
       "      <td>32</td>\n",
       "      <td>28</td>\n",
       "      <td>49</td>\n",
       "      <td>28</td>\n",
       "      <td>19</td>\n",
       "      <td>11</td>\n",
       "      <td>3</td>\n",
       "    </tr>\n",
       "    <tr>\n",
       "      <th>20151</th>\n",
       "      <td>16</td>\n",
       "      <td>23</td>\n",
       "      <td>37</td>\n",
       "      <td>22</td>\n",
       "      <td>9</td>\n",
       "      <td>7</td>\n",
       "      <td>4</td>\n",
       "    </tr>\n",
       "    <tr>\n",
       "      <th>20142</th>\n",
       "      <td>19</td>\n",
       "      <td>16</td>\n",
       "      <td>28</td>\n",
       "      <td>16</td>\n",
       "      <td>13</td>\n",
       "      <td>3</td>\n",
       "      <td>0</td>\n",
       "    </tr>\n",
       "    <tr>\n",
       "      <th>20141</th>\n",
       "      <td>16</td>\n",
       "      <td>26</td>\n",
       "      <td>27</td>\n",
       "      <td>20</td>\n",
       "      <td>21</td>\n",
       "      <td>4</td>\n",
       "      <td>1</td>\n",
       "    </tr>\n",
       "  </tbody>\n",
       "</table>\n",
       "</div>"
      ],
      "text/plain": [
       "classe   D  C2  C1  B2  B1  A2  A1\n",
       "20171   53  69  83  64  50   9   7\n",
       "20162   44  55  75  51  37  15   1\n",
       "20161   43  40  67  48  26  16   1\n",
       "20152   32  28  49  28  19  11   3\n",
       "20151   16  23  37  22   9   7   4\n",
       "20142   19  16  28  16  13   3   0\n",
       "20141   16  26  27  20  21   4   1"
      ]
     },
     "execution_count": 234,
     "metadata": {},
     "output_type": "execute_result"
    }
   ],
   "source": [
    "classes = dados_2017_1.pivot_table(index = ['classe'], values=['discente'], aggfunc='count')\n",
    "classes.columns = ['20171']\n",
    "classes[\"20162\"] = dados_2016_2.pivot_table(index = ['classe'], values=['discente'], aggfunc='count')\n",
    "classes[\"20161\"] = dados_2016_1.pivot_table(index = ['classe'], values=['discente'], aggfunc='count')\n",
    "classes[\"20152\"] = dados_2015_2.pivot_table(index = ['classe'], values=['discente'], aggfunc='count')\n",
    "classes[\"20151\"] = dados_2015_1.pivot_table(index = ['classe'], values=['discente'], aggfunc='count')\n",
    "classes[\"20142\"] = dados_2014_2.pivot_table(index = ['classe'], values=['discente'], aggfunc='count')\n",
    "classes[\"20141\"] = dados_2014_1.pivot_table(index = ['classe'], values=['discente'], aggfunc='count')\n",
    "\n",
    "classes = classes.transpose()\n",
    "classes"
   ]
  },
  {
   "cell_type": "code",
   "execution_count": 230,
   "metadata": {},
   "outputs": [
    {
     "data": {
      "image/png": "[encoded data removed]",
      "text/plain": [
       "<matplotlib.figure.Figure at 0x2328b34a908>"
      ]
     },
     "metadata": {},
     "output_type": "display_data"
    }
   ],
   "source": [
    "# Geração de gráfico mostrando a quantidade de classes sociais na UFRN com o passar dos anos.\n",
    "\n",
    "fig = plt.figure(figsize=(8,8))\n",
    "colors = ['red', 'blue', 'green', 'orange', 'black', 'grey', 'yellow']\n",
    "\n",
    "\n",
    "for i in range(7):\n",
    "    start_index = 0;\n",
    "    end_index = 7;\n",
    "    subset = classes[start_index:end_index]\n",
    "    plt.plot(subset[classes.columns[i]], c=colors[i])\n",
    "plt.legend(loc='upper left')\n",
    "\n",
    "plt.show()\n"
   ]
  },
  {
   "cell_type": "code",
   "execution_count": null,
   "metadata": {},
   "outputs": [],
   "source": []
  },
  {
   "cell_type": "code",
   "execution_count": null,
   "metadata": {},
   "outputs": [],
   "source": []
  }
 ],
 "metadata": {
  "kernelspec": {
   "display_name": "Python 3",
   "language": "python",
   "name": "python3"
  },
  "language_info": {
   "codemirror_mode": {
    "name": "ipython",
    "version": 3
   },
   "file_extension": ".py",
   "mimetype": "text/x-python",
   "name": "python",
   "nbconvert_exporter": "python",
   "pygments_lexer": "ipython3",
   "version": "3.6.4"
  }
 },
 "nbformat": 4,
 "nbformat_minor": 2
}
